{
 "cells": [
  {
   "cell_type": "markdown",
   "metadata": {
    "colab_type": "text",
    "id": "view-in-github"
   },
   "source": [
    "<a href=\"https://colab.research.google.com/github/mrdbourke/pytorch-deep-learning/blob/main/extras/exercises/01_pytorch_workflow_exercises.ipynb\" target=\"_parent\"><img src=\"https://colab.research.google.com/assets/colab-badge.svg\" alt=\"Open In Colab\"/></a>"
   ]
  },
  {
   "cell_type": "markdown",
   "metadata": {
    "id": "N8LsPXZti9Sw"
   },
   "source": [
    "# 01. PyTorch Workflow Exercise Template\n",
    "\n",
    "The following is a template for the PyTorch workflow exercises.\n",
    "\n",
    "It's only starter code and it's your job to fill in the blanks.\n",
    "\n",
    "Because of the flexibility of PyTorch, there may be more than one way to answer the question.\n",
    "\n",
    "Don't worry about trying to be *right* just try writing code that suffices the question.\n",
    "\n",
    "You can see one form of [solutions on GitHub](https://github.com/mrdbourke/pytorch-deep-learning/tree/main/extras/solutions) (but try the exercises below yourself first!)."
   ]
  },
  {
   "cell_type": "code",
   "metadata": {
    "id": "Glu2fM4dkNlx",
    "ExecuteTime": {
     "end_time": "2024-04-12T12:31:38.989664Z",
     "start_time": "2024-04-12T12:31:38.986756Z"
    }
   },
   "source": [
    "# Import PyTorch and matplotlib\n",
    "import torch\n",
    "from torch import nn # nn contains all of PyTorch's building blocks for neural networks\n",
    "import matplotlib.pyplot as plt\n"
   ],
   "outputs": [],
   "execution_count": 46
  },
  {
   "cell_type": "code",
   "metadata": {
    "id": "LqKhXY26m31s",
    "ExecuteTime": {
     "end_time": "2024-04-12T12:31:39.014835Z",
     "start_time": "2024-04-12T12:31:39.012670Z"
    }
   },
   "source": [
    "# Setup device-agnostic code\n",
    "device = \"cuda\" if torch.cuda.is_available() else \"cpu\"\n",
    "print(f\"Using device: {device}\")\n"
   ],
   "outputs": [
    {
     "name": "stdout",
     "output_type": "stream",
     "text": [
      "Using device: cuda\n"
     ]
    }
   ],
   "execution_count": 47
  },
  {
   "cell_type": "markdown",
   "metadata": {
    "id": "g7HUhxCxjeBx"
   },
   "source": [
    "## 1. Create a straight line dataset using the linear regression formula (`weight * X + bias`).\n",
    "  * Set `weight=0.3` and `bias=0.9` there should be at least 100 datapoints total. \n",
    "  * Split the data into 80% training, 20% testing.\n",
    "  * Plot the training and testing data so it becomes visual.\n",
    "\n",
    "Your output of the below cell should look something like:\n",
    "```\n",
    "Number of X samples: 100\n",
    "Number of y samples: 100\n",
    "First 10 X & y samples:\n",
    "X: tensor([0.0000, 0.0100, 0.0200, 0.0300, 0.0400, 0.0500, 0.0600, 0.0700, 0.0800,\n",
    "        0.0900])\n",
    "y: tensor([0.9000, 0.9030, 0.9060, 0.9090, 0.9120, 0.9150, 0.9180, 0.9210, 0.9240,\n",
    "        0.9270])\n",
    "```\n",
    "\n",
    "Of course the numbers in `X` and `y` may be different but ideally they're created using the linear regression formula."
   ]
  },
  {
   "cell_type": "code",
   "metadata": {
    "id": "KbDG5MV7jhvE",
    "ExecuteTime": {
     "end_time": "2024-04-12T12:31:39.041916Z",
     "start_time": "2024-04-12T12:31:39.037844Z"
    }
   },
   "source": [
    "# Create the data parameters\n",
    "start = 0\n",
    "end = 10\n",
    "step = 0.02\n",
    "\n",
    "weight = 0.3\n",
    "bias = 0.9\n",
    "\n",
    "# Make X and y using linear regression feature\n",
    "X = torch.arange(start,end,step).unsqueeze(dim=1)\n",
    "y = weight * X + bias\n",
    "\n",
    "\n",
    "print(f\"Number of X samples: {len(X)}\")\n",
    "print(f\"Number of y samples: {len(y)}\")\n",
    "print(f\"First 10 X & y samples:\\nX: {X[:10]}\\ny: {y[:10]}\")"
   ],
   "outputs": [
    {
     "name": "stdout",
     "output_type": "stream",
     "text": [
      "Number of X samples: 500\n",
      "Number of y samples: 500\n",
      "First 10 X & y samples:\n",
      "X: tensor([[0.0000],\n",
      "        [0.0200],\n",
      "        [0.0400],\n",
      "        [0.0600],\n",
      "        [0.0800],\n",
      "        [0.1000],\n",
      "        [0.1200],\n",
      "        [0.1400],\n",
      "        [0.1600],\n",
      "        [0.1800]])\n",
      "y: tensor([[0.9000],\n",
      "        [0.9060],\n",
      "        [0.9120],\n",
      "        [0.9180],\n",
      "        [0.9240],\n",
      "        [0.9300],\n",
      "        [0.9360],\n",
      "        [0.9420],\n",
      "        [0.9480],\n",
      "        [0.9540]])\n"
     ]
    }
   ],
   "execution_count": 48
  },
  {
   "cell_type": "code",
   "metadata": {
    "id": "GlwtT1djkmLw",
    "ExecuteTime": {
     "end_time": "2024-04-12T12:31:39.045210Z",
     "start_time": "2024-04-12T12:31:39.041916Z"
    }
   },
   "source": [
    "# Split the data into training and testing\n",
    "train_split = int(0.8 * len(X))\n",
    "X_train, y_train = X[:train_split], y[:train_split]\n",
    "X_test, y_test = X[train_split:], y[train_split:]\n",
    "\n",
    "print(f\"(X_train, y_train, X_test, y_test): {len(X_train), len(y_train), len(X_test), len(y_test)}\")"
   ],
   "outputs": [
    {
     "name": "stdout",
     "output_type": "stream",
     "text": [
      "(X_train, y_train, X_test, y_test): (400, 400, 100, 100)\n"
     ]
    }
   ],
   "execution_count": 49
  },
  {
   "cell_type": "code",
   "metadata": {
    "id": "29iQZFNhlYJ-",
    "ExecuteTime": {
     "end_time": "2024-04-12T12:31:39.154250Z",
     "start_time": "2024-04-12T12:31:39.045210Z"
    }
   },
   "source": [
    "# Plot the training and testing data \n",
    "def plot_predictions(train_data = X_train,\n",
    "                 train_labels = y_train,\n",
    "                 test_data = X_test,\n",
    "                 test_labels = y_test,\n",
    "                 predictions = None):\n",
    "  plt.figure(figsize = (10,7))\n",
    "  plt.scatter(train_data,train_labels,c = 'b',s = 4,label = \"Training data\")\n",
    "  plt.scatter(test_data,test_labels,c = 'g',s = 4,label = \"Test data\")\n",
    "\n",
    "  if predictions is not None:\n",
    "    plt.scatter(test_data,predictions,c = 'r',s = 4,label = \"Predictions\")\n",
    "  plt.legend(prop = {\"size\" : 14})\n",
    "plot_predictions()"
   ],
   "outputs": [
    {
     "data": {
      "text/plain": [
       "<Figure size 1000x700 with 1 Axes>"
      ],
      "image/png": "[encoded data removed]"
     },
     "metadata": {},
     "output_type": "display_data"
    }
   ],
   "execution_count": 50
  },
  {
   "cell_type": "markdown",
   "metadata": {
    "id": "ImZoe3v8jif8"
   },
   "source": [
    "## 2. Build a PyTorch model by subclassing `nn.Module`. \n",
    "  * Inside should be a randomly initialized `nn.Parameter()` with `requires_grad=True`, one for `weights` and one for `bias`. \n",
    "  * Implement the `forward()` method to compute the linear regression function you used to create the dataset in 1. \n",
    "  * Once you've constructed the model, make an instance of it and check its `state_dict()`.\n",
    "  * **Note:** If you'd like to use `nn.Linear()` instead of `nn.Parameter()` you can."
   ]
  },
  {
   "cell_type": "code",
   "metadata": {
    "id": "qzd__Y5rjtB8",
    "ExecuteTime": {
     "end_time": "2024-04-12T12:31:39.157484Z",
     "start_time": "2024-04-12T12:31:39.155254Z"
    }
   },
   "source": [
    "# Create PyTorch linear regression model by subclassing nn.Module\n",
    "class LinearRegressionModel(nn.Module):\n",
    "  def __init__(self):\n",
    "    super().__init__()\n",
    "    # requires_grad = True by default\n",
    "    self.linear_layer = nn.Linear(in_features=1, out_features=1)\n",
    "      \n",
    "  def forward(self, x: torch.Tensor) -> torch.Tensor:\n",
    "      return self.linear_layer(x)"
   ],
   "outputs": [],
   "execution_count": 51
  },
  {
   "cell_type": "code",
   "metadata": {
    "id": "5LdcDnmOmyQ2",
    "ExecuteTime": {
     "end_time": "2024-04-12T12:31:39.163730Z",
     "start_time": "2024-04-12T12:31:39.157484Z"
    }
   },
   "source": [
    "# Instantiate the model and put it to the target device\n",
    "torch.manual_seed(15)\n",
    "linear_model = LinearRegressionModel()\n",
    "linear_model.to(device)\n",
    "\n",
    "linear_model, linear_model.state_dict()"
   ],
   "outputs": [
    {
     "data": {
      "text/plain": [
       "(LinearRegressionModel(\n",
       "   (linear_layer): Linear(in_features=1, out_features=1, bias=True)\n",
       " ),\n",
       " OrderedDict([('linear_layer.weight', tensor([[-0.4053]], device='cuda:0')),\n",
       "              ('linear_layer.bias', tensor([-0.4468], device='cuda:0'))]))"
      ]
     },
     "execution_count": 52,
     "metadata": {},
     "output_type": "execute_result"
    }
   ],
   "execution_count": 52
  },
  {
   "cell_type": "markdown",
   "metadata": {
    "id": "G6nYOrJhjtfu"
   },
   "source": [
    "## 3. Create a loss function and optimizer using `nn.L1Loss()` and `torch.optim.SGD(params, lr)` respectively. \n",
    "  * Set the learning rate of the optimizer to be 0.01 and the parameters to optimize should be the model parameters from the model you created in 2.\n",
    "  * Write a training loop to perform the appropriate training steps for 300 epochs.\n",
    "  * The training loop should test the model on the test dataset every 20 epochs."
   ]
  },
  {
   "cell_type": "code",
   "metadata": {
    "id": "ltvoZ-FWjv1j",
    "ExecuteTime": {
     "end_time": "2024-04-12T12:31:39.166254Z",
     "start_time": "2024-04-12T12:31:39.163730Z"
    }
   },
   "source": [
    "# Create the loss function and optimizer\n",
    "loss_fn = nn.L1Loss()\n",
    "optimizer = torch.optim.SGD(params=linear_model.parameters(), lr=0.01)"
   ],
   "outputs": [],
   "execution_count": 53
  },
  {
   "cell_type": "code",
   "metadata": {
    "id": "xpE83NvNnkdV",
    "ExecuteTime": {
     "end_time": "2024-04-12T12:31:39.357573Z",
     "start_time": "2024-04-12T12:31:39.166254Z"
    }
   },
   "source": [
    "# Train model for 300 epochs\n",
    "epochs = 300 \n",
    "\n",
    "# Send data to target device\n",
    "# Without this, error will happen (not all model/data on device)\n",
    "X_train = X_train.to(device)\n",
    "X_test = X_test.to(device)\n",
    "y_train = y_train.to(device)\n",
    "y_test = y_test.to(device)\n",
    "\n",
    "for epoch in range(epochs):\n",
    "  ### Training\n",
    "  \n",
    "  # Put model in train mode\n",
    "  linear_model.train()\n",
    "\n",
    "  # 1. Forward pass\n",
    "  y_pred = linear_model(X_train)\n",
    "\n",
    "  # 2. Calculate loss\n",
    "  loss = loss_fn(y_pred, y_train)\n",
    "\n",
    "  # 3. Zero gradients\n",
    "  optimizer.zero_grad()\n",
    "  \n",
    "  # 4. Backpropagation\n",
    "  loss.backward()\n",
    "\n",
    "  # 5. Step the optimizer\n",
    "  optimizer.step()\n",
    "\n",
    "  ### Perform testing every 20 epochs\n",
    "  if epoch % 20 == 0:\n",
    "\n",
    "    # Put model in evaluation mode and setup inference context   \n",
    "      linear_model.eval()\n",
    "    \n",
    "      # 1. Forward pass\n",
    "      with torch.inference_mode():\n",
    "        test_pred = linear_model.forward(X_test)\n",
    "      \n",
    "      # 2. Calculate test loss\n",
    "      test_loss = loss_fn(test_pred, y_test)\n",
    "\n",
    "      # Print out what's happening\n",
    "      print(f\"Epoch: {epoch} | Train loss: {loss:.3f} | Test loss: {test_loss:.3f}\")"
   ],
   "outputs": [
    {
     "name": "stdout",
     "output_type": "stream",
     "text": [
      "Epoch: 0 | Train loss: 4.161 | Test loss: 7.319\n",
      "Epoch: 20 | Train loss: 0.777 | Test loss: 0.078\n",
      "Epoch: 40 | Train loss: 0.436 | Test loss: 0.633\n",
      "Epoch: 60 | Train loss: 0.402 | Test loss: 0.585\n",
      "Epoch: 80 | Train loss: 0.369 | Test loss: 0.535\n",
      "Epoch: 100 | Train loss: 0.335 | Test loss: 0.487\n",
      "Epoch: 120 | Train loss: 0.302 | Test loss: 0.439\n",
      "Epoch: 140 | Train loss: 0.269 | Test loss: 0.388\n",
      "Epoch: 160 | Train loss: 0.235 | Test loss: 0.340\n",
      "Epoch: 180 | Train loss: 0.202 | Test loss: 0.293\n",
      "Epoch: 200 | Train loss: 0.169 | Test loss: 0.245\n",
      "Epoch: 220 | Train loss: 0.135 | Test loss: 0.194\n",
      "Epoch: 240 | Train loss: 0.102 | Test loss: 0.146\n",
      "Epoch: 260 | Train loss: 0.069 | Test loss: 0.079\n",
      "Epoch: 280 | Train loss: 0.046 | Test loss: 0.033\n"
     ]
    }
   ],
   "execution_count": 54
  },
  {
   "cell_type": "markdown",
   "metadata": {
    "id": "x4j4TM18jwa7"
   },
   "source": [
    "## 4. Make predictions with the trained model on the test data.\n",
    "  * Visualize these predictions against the original training and testing data (**note:** you may need to make sure the predictions are *not* on the GPU if you want to use non-CUDA-enabled libraries such as matplotlib to plot)."
   ]
  },
  {
   "cell_type": "code",
   "metadata": {
    "id": "bbMPK5Qjjyx_",
    "ExecuteTime": {
     "end_time": "2024-04-12T12:31:39.363341Z",
     "start_time": "2024-04-12T12:31:39.358577Z"
    }
   },
   "source": [
    "# Make predictions with the model\n",
    "linear_model.eval()\n",
    "\n",
    "with torch.no_grad():\n",
    "  preds = linear_model(X_test)\n",
    "  \n",
    "preds.cpu()"
   ],
   "outputs": [
    {
     "data": {
      "text/plain": [
       "tensor([[3.6126],\n",
       "        [3.6195],\n",
       "        [3.6264],\n",
       "        [3.6333],\n",
       "        [3.6402],\n",
       "        [3.6472],\n",
       "        [3.6541],\n",
       "        [3.6610],\n",
       "        [3.6679],\n",
       "        [3.6748],\n",
       "        [3.6817],\n",
       "        [3.6886],\n",
       "        [3.6956],\n",
       "        [3.7025],\n",
       "        [3.7094],\n",
       "        [3.7163],\n",
       "        [3.7232],\n",
       "        [3.7301],\n",
       "        [3.7370],\n",
       "        [3.7440],\n",
       "        [3.7509],\n",
       "        [3.7578],\n",
       "        [3.7647],\n",
       "        [3.7716],\n",
       "        [3.7785],\n",
       "        [3.7855],\n",
       "        [3.7924],\n",
       "        [3.7993],\n",
       "        [3.8062],\n",
       "        [3.8131],\n",
       "        [3.8200],\n",
       "        [3.8269],\n",
       "        [3.8339],\n",
       "        [3.8408],\n",
       "        [3.8477],\n",
       "        [3.8546],\n",
       "        [3.8615],\n",
       "        [3.8684],\n",
       "        [3.8753],\n",
       "        [3.8823],\n",
       "        [3.8892],\n",
       "        [3.8961],\n",
       "        [3.9030],\n",
       "        [3.9099],\n",
       "        [3.9168],\n",
       "        [3.9238],\n",
       "        [3.9307],\n",
       "        [3.9376],\n",
       "        [3.9445],\n",
       "        [3.9514],\n",
       "        [3.9583],\n",
       "        [3.9652],\n",
       "        [3.9722],\n",
       "        [3.9791],\n",
       "        [3.9860],\n",
       "        [3.9929],\n",
       "        [3.9998],\n",
       "        [4.0067],\n",
       "        [4.0137],\n",
       "        [4.0206],\n",
       "        [4.0275],\n",
       "        [4.0344],\n",
       "        [4.0413],\n",
       "        [4.0482],\n",
       "        [4.0551],\n",
       "        [4.0621],\n",
       "        [4.0690],\n",
       "        [4.0759],\n",
       "        [4.0828],\n",
       "        [4.0897],\n",
       "        [4.0966],\n",
       "        [4.1035],\n",
       "        [4.1105],\n",
       "        [4.1174],\n",
       "        [4.1243],\n",
       "        [4.1312],\n",
       "        [4.1381],\n",
       "        [4.1450],\n",
       "        [4.1520],\n",
       "        [4.1589],\n",
       "        [4.1658],\n",
       "        [4.1727],\n",
       "        [4.1796],\n",
       "        [4.1865],\n",
       "        [4.1934],\n",
       "        [4.2004],\n",
       "        [4.2073],\n",
       "        [4.2142],\n",
       "        [4.2211],\n",
       "        [4.2280],\n",
       "        [4.2349],\n",
       "        [4.2418],\n",
       "        [4.2488],\n",
       "        [4.2557],\n",
       "        [4.2626],\n",
       "        [4.2695],\n",
       "        [4.2764],\n",
       "        [4.2833],\n",
       "        [4.2903],\n",
       "        [4.2972]])"
      ]
     },
     "execution_count": 55,
     "metadata": {},
     "output_type": "execute_result"
    }
   ],
   "execution_count": 55
  },
  {
   "cell_type": "code",
   "metadata": {
    "id": "K3BdmQaDpFo8",
    "ExecuteTime": {
     "end_time": "2024-04-12T12:31:39.495734Z",
     "start_time": "2024-04-12T12:31:39.363341Z"
    }
   },
   "source": [
    "# Plot the predictions (these may need to be on a specific device)\n",
    "plot_predictions(predictions=preds.cpu())"
   ],
   "outputs": [
    {
     "data": {
      "text/plain": [
       "<Figure size 1000x700 with 1 Axes>"
      ],
      "image/png": "[encoded data removed]"
     },
     "metadata": {},
     "output_type": "display_data"
    }
   ],
   "execution_count": 56
  },
  {
   "cell_type": "markdown",
   "metadata": {
    "id": "s2OnlMWKjzX8"
   },
   "source": [
    "## 5. Save your trained model's `state_dict()` to file.\n",
    "  * Create a new instance of your model class you made in 2. and load in the `state_dict()` you just saved to it.\n",
    "  * Perform predictions on your test data with the loaded model and confirm they match the original model predictions from 4."
   ]
  },
  {
   "cell_type": "code",
   "metadata": {
    "id": "hgxhgD14qr-i",
    "ExecuteTime": {
     "end_time": "2024-04-12T12:58:06.534320Z",
     "start_time": "2024-04-12T12:58:06.529803Z"
    }
   },
   "source": [
    "from pathlib import Path\n",
    "\n",
    "# 1. Create models directory \n",
    "MODEL_PATH = Path(\"models\")\n",
    "MODEL_PATH.mkdir(parents=True, exist_ok=True)\n",
    "\n",
    "# 2. Create model save path \n",
    "MODEL_NAME = \"linear_regression_model.pt\"\n",
    "\n",
    "# 3. Save the model state dict\n",
    "torch.save(linear_model.state_dict(), str(MODEL_PATH / MODEL_NAME))\n",
    "print(f\"Saved model to {str(MODEL_PATH / MODEL_NAME)}\")"
   ],
   "outputs": [
    {
     "name": "stdout",
     "output_type": "stream",
     "text": [
      "Saved model to models\\linear_regression_model.pt\n"
     ]
    }
   ],
   "execution_count": 61
  },
  {
   "cell_type": "code",
   "metadata": {
    "id": "P9vTgiLRrJ7T",
    "ExecuteTime": {
     "end_time": "2024-04-12T12:59:56.389511Z",
     "start_time": "2024-04-12T12:59:56.383362Z"
    }
   },
   "source": [
    "# Create new instance of model and load saved state dict (make sure to put it on the target device)\n",
    "linear_model_2 = LinearRegressionModel()\n",
    "linear_model_2.load_state_dict(torch.load(str(MODEL_PATH / MODEL_NAME)))\n",
    "linear_model_2.to(device)"
   ],
   "outputs": [
    {
     "data": {
      "text/plain": [
       "LinearRegressionModel(\n",
       "  (linear_layer): Linear(in_features=1, out_features=1, bias=True)\n",
       ")"
      ]
     },
     "execution_count": 65,
     "metadata": {},
     "output_type": "execute_result"
    }
   ],
   "execution_count": 65
  },
  {
   "cell_type": "code",
   "metadata": {
    "id": "8UGX3VebrVtI",
    "ExecuteTime": {
     "end_time": "2024-04-12T12:59:58.918902Z",
     "start_time": "2024-04-12T12:59:58.913986Z"
    }
   },
   "source": [
    "# Make predictions with loaded model and compare them to the previous\n",
    "linear_model_2.eval()\n",
    "preds_2 = linear_model_2(X_test)\n",
    "preds_2.cpu() == preds.cpu()\n"
   ],
   "outputs": [
    {
     "data": {
      "text/plain": [
       "tensor([[True],\n",
       "        [True],\n",
       "        [True],\n",
       "        [True],\n",
       "        [True],\n",
       "        [True],\n",
       "        [True],\n",
       "        [True],\n",
       "        [True],\n",
       "        [True],\n",
       "        [True],\n",
       "        [True],\n",
       "        [True],\n",
       "        [True],\n",
       "        [True],\n",
       "        [True],\n",
       "        [True],\n",
       "        [True],\n",
       "        [True],\n",
       "        [True],\n",
       "        [True],\n",
       "        [True],\n",
       "        [True],\n",
       "        [True],\n",
       "        [True],\n",
       "        [True],\n",
       "        [True],\n",
       "        [True],\n",
       "        [True],\n",
       "        [True],\n",
       "        [True],\n",
       "        [True],\n",
       "        [True],\n",
       "        [True],\n",
       "        [True],\n",
       "        [True],\n",
       "        [True],\n",
       "        [True],\n",
       "        [True],\n",
       "        [True],\n",
       "        [True],\n",
       "        [True],\n",
       "        [True],\n",
       "        [True],\n",
       "        [True],\n",
       "        [True],\n",
       "        [True],\n",
       "        [True],\n",
       "        [True],\n",
       "        [True],\n",
       "        [True],\n",
       "        [True],\n",
       "        [True],\n",
       "        [True],\n",
       "        [True],\n",
       "        [True],\n",
       "        [True],\n",
       "        [True],\n",
       "        [True],\n",
       "        [True],\n",
       "        [True],\n",
       "        [True],\n",
       "        [True],\n",
       "        [True],\n",
       "        [True],\n",
       "        [True],\n",
       "        [True],\n",
       "        [True],\n",
       "        [True],\n",
       "        [True],\n",
       "        [True],\n",
       "        [True],\n",
       "        [True],\n",
       "        [True],\n",
       "        [True],\n",
       "        [True],\n",
       "        [True],\n",
       "        [True],\n",
       "        [True],\n",
       "        [True],\n",
       "        [True],\n",
       "        [True],\n",
       "        [True],\n",
       "        [True],\n",
       "        [True],\n",
       "        [True],\n",
       "        [True],\n",
       "        [True],\n",
       "        [True],\n",
       "        [True],\n",
       "        [True],\n",
       "        [True],\n",
       "        [True],\n",
       "        [True],\n",
       "        [True],\n",
       "        [True],\n",
       "        [True],\n",
       "        [True],\n",
       "        [True],\n",
       "        [True]])"
      ]
     },
     "execution_count": 66,
     "metadata": {},
     "output_type": "execute_result"
    }
   ],
   "execution_count": 66
  }
 ],
 "metadata": {
  "accelerator": "GPU",
  "colab": {
   "authorship_tag": "ABX9TyNYzatJtFkfUqqdiR6rYwVL",
   "collapsed_sections": [],
   "include_colab_link": true,
   "name": "01_pytorch_workflow_exercises.ipynb",
   "provenance": []
  },
  "kernelspec": {
   "display_name": "Python 3 (ipykernel)",
   "language": "python",
   "name": "python3"
  },
  "language_info": {
   "codemirror_mode": {
    "name": "ipython",
    "version": 3
   },
   "file_extension": ".py",
   "mimetype": "text/x-python",
   "name": "python",
   "nbconvert_exporter": "python",
   "pygments_lexer": "ipython3",
   "version": "3.11.5"
  }
 },
 "nbformat": 4,
 "nbformat_minor": 1
}
